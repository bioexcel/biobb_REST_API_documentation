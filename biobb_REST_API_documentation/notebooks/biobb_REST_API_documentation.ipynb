{
 "cells": [
  {
   "cell_type": "markdown",
   "metadata": {},
   "source": [
    "# The BioBB REST API\n",
    "\n",
    "The **[BioBB REST API](https://mmb.irbbarcelona.org/biobb-api)** allows the execution of the **[BioExcel Building Blocks](https://mmb.irbbarcelona.org/biobb/)** in a remote server.\n",
    "\n",
    "## Documentation\n",
    "\n",
    "For an extense documentation section, please go to the **[BioBB REST API website help](https://mmb.irbbarcelona.org/biobb-api/rest)**.\n",
    "\n",
    "## Settings\n",
    "\n",
    "### Auxiliar libraries used\n",
    "\n",
    "* [requests](https://pypi.org/project/requests/): Requests allows you to send *organic, grass-fed* HTTP/1.1 requests, without the need for manual labor.\n",
    "* [nb_conda_kernels](https://github.com/Anaconda-Platform/nb_conda_kernels): Enables a Jupyter Notebook or JupyterLab application in one conda environment to access kernels for Python, R, and other languages found in other environments.\n",
    "* [nglview](http://nglviewer.org/#nglview): Jupyter/IPython widget to interactively view molecular structures and trajectories in notebooks.\n",
    "* [ipywidgets](https://github.com/jupyter-widgets/ipywidgets): Interactive HTML widgets for Jupyter notebooks and the IPython kernel.\n",
    "* [plotly](https://plot.ly/python/offline/): Python interactive graphing library integrated in Jupyter notebooks.\n",
    "\n",
    "### Conda Installation and Launch\n",
    "\n",
    "```console\n",
    "git clone https://github.com/bioexcel/biobb_REST_API_documentation.git\n",
    "cd biobb_REST_API_documentation\n",
    "conda env create -f conda_env/environment.yml\n",
    "conda activate biobb_REST_API_documentation\n",
    "jupyter-nbextension enable --py --user widgetsnbextension\n",
    "jupyter-nbextension enable --py --user nglview\n",
    "jupyter-notebook biobb_REST_API_documentation/notebooks/biobb_REST_API_documentation.ipynb\n",
    "```\n",
    "\n",
    "***\n",
    "\n",
    "## Index\n",
    "\n",
    " * [Behaviour](#behaviour)\n",
    "     * [Tools information](#tools_info)\n",
    "         * [List of packages](#list_pckg)\n",
    "         * [List of tools](#list_tools)\n",
    "         * [Tool's properties](#tools_prop)\n",
    "     * [Launch tool](#launch_tool)\n",
    "     * [Retrieve status](#retrieve_status)\n",
    "     * [Retrieve data](#retrieve_data)\n",
    "     * [Sample files](#sample_files)\n",
    "         * [All sample files](#all_sample)\n",
    "         * [Package sample files](#pckg_sample)\n",
    "         * [Tool sample files](#tool_sample)\n",
    "         * [Single sample file](#sample)\n",
    " * [Examples](#examples)\n",
    "     * [Tools information](#tools_info_ex)\n",
    "         * [List of packages](#list_pckg_ex)\n",
    "         * [List of tools from a specific package](#list_tools_ex)\n",
    "         * [Tool's properties](#tools_prop_ex)\n",
    "     * [Launch tool](#launch_tool_ex)\n",
    "         * [Launch job with a YAML file config](#tool_yml_ex)\n",
    "         * [Launch job with a JSON file config](#tool_json_ex)\n",
    "         * [Launch job with a piython dictionary config](#tool_dict_ex)\n",
    "     * [Retrieve status](#retrieve_status_ex)\n",
    "     * [Retrieve data](#retrieve_data_ex)\n",
    " * [Practical cases](#practical_cases)\n",
    "     * [Example 1: download PDB file from RSCB database](#example1)\n",
    "     * [Example 2: extract heteroatom from a given structure](#example2)\n",
    "     * [Example 3: extract energy components from a given GROMACS energy file](#example3)\n",
    "\n",
    "***\n",
    "<img src=\"https://bioexcel.eu/wp-content/uploads/2019/04/Bioexcell_logo_1080px_transp.png\" alt=\"Bioexcel2 logo\"\n",
    "\ttitle=\"Bioexcel2 logo\" width=\"400\" />\n",
    "***\n",
    "\n",
    "<a id=\"behaviour\"></a>\n",
    "## Behaviour\n",
    "\n",
    "The **BioBB REST API** works as an asynchronous launcher of jobs, as these jobs can last from a few seconds to several minutes, there are some steps that must be performed for having the complete results of every tool.\n",
    "\n",
    "**BioExcel Building Blocks** are structured in **[packages and tools](http://mmb.irbbarcelona.org/biobb/availability/source)**. Every call to the **BioBB REST API** executes one single tool and returns the output file(s) related to this specific tool.\n",
    "\n",
    "<a id=\"tools_info\"></a>\n",
    "### Tools information\n",
    "\n",
    "<a id=\"list_pckg\"></a>\n",
    "#### List of packages\n",
    "\n",
    "In order to get a complete **list of available packages**, we must do a **GET** request to the following endpoint:\n",
    "\n",
    "`http://mmb.irbbarcelona.org/biobb-api/rest/v1/launch`\n",
    "\n",
    "This endpoint returns a **JSON HTTP response** with status `200`. More information in the [BioBB REST API Documentation section](http://mmb.irbbarcelona.org/biobb-api/rest/#/List%20of%20Services/getPckgList).\n",
    "\n",
    "<a id=\"list_tools\"></a>\n",
    "#### List of tools\n",
    "\n",
    "If there is need for a **list of tools for a single package**, we must do a **GET** request to the following endpoint:\n",
    "\n",
    "`http://mmb.irbbarcelona.org/biobb-api/rest/v1/launch/{package}`\n",
    "\n",
    "This endpoint returns a **JSON HTTP response** with status `200` or a `404` status if the package id is incorrect. More information in the [BioBB REST API Documentation section](http://mmb.irbbarcelona.org/biobb-api/rest/#/List%20of%20Services/getToolsList).\n",
    "\n",
    "<a id=\"tools_prop\"></a>\n",
    "#### Tool's properties\n",
    "\n",
    "If there is only need for the **information of a single tool**, we must do a **GET** request to the following endpoint:\n",
    "\n",
    "`http://mmb.irbbarcelona.org/biobb-api/rest/v1/launch/{package}/{tool}`\n",
    "\n",
    "This endpoint returns a **JSON HTTP response** with status `200` or a `404` status if the package id and / or the tool id are incorrect. The reason for failure should be detailed in the JSON response. More information in the [BioBB REST API Documentation section](http://mmb.irbbarcelona.org/biobb-api/rest/#/Launch%20Tool/getLaunchTool).\n",
    "\n",
    "<a id=\"launch_tool\"></a>\n",
    "### Launch tool\n",
    "\n",
    "For **launching a tool**, we must do a **POST** request to the following endpoint:\n",
    "\n",
    "`http://mmb.irbbarcelona.org/biobb-api/rest/v1/launch/{package}/{tool}`\n",
    "\n",
    "In the body of this POST request, **we must add the file(s) needed as input** (included the properties config file in **JSON** or **YAML** format) and the name for the output(s). The detailed list of inputs and outputs with its respectives properties can be found in the **GET** request of this same endpoint.\n",
    "\n",
    "This endpoint returns a **JSON HTTP response** with the following possible status:\n",
    "\n",
    "* `303`: **The job has been successfully launched** and the user must save the token provided and follow to the next endpoint (defined in the same JSON response)\n",
    "* `404`: **There was some error launching the tool.** The reason for failure should be detailed in the JSON response.\n",
    "* `500`: The job has been launched, but **some internal server error** has occurred during the execution.\n",
    "\n",
    "More information for a generic call in the [BioBB REST API Documentation section](http://mmb.irbbarcelona.org/biobb-api/rest/#/Launch%20Tool/postLaunchTool). The documentation for all the tools is available in the [BioBB REST API Tools Documentation section](http://mmb.irbbarcelona.org/biobb-api/tools-documentation?docExpansion=none). Interactive examples for all the tools are available in the [BioBB REST API Tools Execution section](http://mmb.irbbarcelona.org/biobb-api/tools-execution).\n",
    "\n",
    "<a id=\"retrieve_status\"></a>\n",
    "### Retrieve status\n",
    "\n",
    "If the previous endpoint returned a `303` status, we must do a **GET** request to the following endpoint providing the given token in the path:\n",
    "\n",
    "`http://mmb.irbbarcelona.org/biobb-api/rest/v1/retrieve/status/{token}`\n",
    "\n",
    "This endpoint checks the state of the job and returns a **JSON HTTP response** with the following possible status:\n",
    "\n",
    "* `200`: **The job has finished successfully** and in the JSON response we can found a list of output files generated by the job with its correspondent id for retrieving them on the next endpoint (defined in the same JSON message).\n",
    "* `202`: The job is **still running**.\n",
    "* `404`: **Token incorrect, job unexisting or expired.**\n",
    "* `500`: Some **internal server error** has occurred during the execution.\n",
    "\n",
    "More information in the [BioBB REST API Documentation section](http://mmb.irbbarcelona.org/biobb-api/rest/#/Retrieve/getRetrieveStatus).\n",
    "\n",
    "<a id=\"retrieve_data\"></a>\n",
    "### Retrieve data\n",
    "\n",
    "Once the previous endpoint returns a `200` status, the output file(s) are ready for its retrieval, so we must do a **GET** request to the following endpoint providing the given **file id** in the path:\n",
    "\n",
    "`http://mmb.irbbarcelona.org/biobb-api/rest/v1/retrieve/data/{id}`\n",
    "\n",
    "This endpoint returns the **requested file** with a `200` status or a `404` status if the provided id is incorrect, the file doesn't exist or it has expired. More information in the [BioBB REST API Documentation section](http://mmb.irbbarcelona.org/biobb-api/rest/#/Retrieve/getRetrieveData).\n",
    "\n",
    "Note that if we have executed a job that returns multiple output files, a call to this endpoint must be done **for each of the output files** generated by the job.\n",
    "\n",
    "<a id=\"sample_files\"></a>\n",
    "### Sample files\n",
    "\n",
    "The **BioBB REST API** provides sample files for most of the inputs and outputs of each tool. Files can be accessed thought the whole **BioBB REST API** hierarchical range.\n",
    "\n",
    "<a id=\"all_sample\"></a>\n",
    "#### All sample files\n",
    "\n",
    "In order to download **all the sample files**, we must do a **GET** request to the following endpoint:\n",
    "\n",
    "`http://mmb.irbbarcelona.org/biobb-api/rest/v1/sample`\n",
    "\n",
    "This endpoint returns the **requested file** with a `200` status. More information in the [BioBB REST API Documentation section](http://mmb.irbbarcelona.org/biobb-api/rest#/Sample%20Files/getSample).\n",
    "\n",
    "<a id=\"pckg_sample\"></a>\n",
    "#### Package sample files\n",
    "\n",
    "In order to download **all the sample files of a package**, we must do a **GET** request to the following endpoint:\n",
    "\n",
    "`http://mmb.irbbarcelona.org/biobb-api/rest/v1/sample/{package}`\n",
    "\n",
    "This endpoint returns the **requested file** with a `200` status or a `404` status if the package id is incorrect. More information in the [BioBB REST API Documentation section](http://mmb.irbbarcelona.org/biobb-api/rest#/Sample%20Files/getPackageSample).\n",
    "\n",
    "<a id=\"tool_sample\"></a>\n",
    "#### Tool sample files\n",
    "\n",
    "In order to download **all the sample files of a tool**, we must do a **GET** request to the following endpoint:\n",
    "\n",
    "`http://mmb.irbbarcelona.org/biobb-api/rest/v1/sample/{package}/{tool}`\n",
    "\n",
    "This endpoint returns the **requested file** with a `200` status or a `404` status if the package id and / or the tool id are incorrect. The reason for failure should be detailed in the JSON response. More information in the [BioBB REST API Documentation section](http://mmb.irbbarcelona.org/biobb-api/rest#/Sample%20Files/getToolSample).\n",
    "\n",
    "<a id=\"sample\"></a>\n",
    "#### Single sample file\n",
    "\n",
    "In order to download **a single sample file**, we must do a **GET** request to the following endpoint:\n",
    "\n",
    "`http://mmb.irbbarcelona.org/biobb-api/rest/v1/sample/{package}/{tool}/{id}`\n",
    "\n",
    "This endpoint returns the **requested file** with a `200` status or a `404` status if the package id and / or the tool id and / or the file id are incorrect. The reason for failure should be detailed in the JSON response. More information in the [BioBB REST API Documentation section](http://mmb.irbbarcelona.org/biobb-api/rest#/Sample%20Files/getSingleSample)."
   ]
  },
  {
   "cell_type": "markdown",
   "metadata": {},
   "source": [
    "<a id=\"examples\"></a>\n",
    "## Examples\n",
    "\n",
    "Below we will do **calls to all the previously defined endpoints** and define some **functions** for make easier the connection to the **BioBB REST API** through **Jupyter Notebook**.\n",
    "\n",
    "First off, we will import the Python requests and json library and set the root URI for the **BioBB REST API**."
   ]
  },
  {
   "cell_type": "code",
   "execution_count": null,
   "metadata": {},
   "outputs": [],
   "source": [
    "import requests\n",
    "import json\n",
    "\n",
    "apiURL  = \"http://mmb.irbbarcelona.org/biobb-api/rest/v1/\""
   ]
  },
  {
   "cell_type": "markdown",
   "metadata": {},
   "source": [
    "<a id=\"tools_info_ex\"></a>\n",
    "### Tools information"
   ]
  },
  {
   "cell_type": "markdown",
   "metadata": {},
   "source": [
    "Definition of simple GET / POST request functions and a class Response:"
   ]
  },
  {
   "cell_type": "code",
   "execution_count": null,
   "metadata": {},
   "outputs": [],
   "source": [
    "# Class for returning response status and json content of a requested URL\n",
    "class Response:\n",
    "  def __init__(self, status, json):\n",
    "    self.status = status\n",
    "    self.json = json\n",
    "\n",
    "# Perform GET request\n",
    "def get_data(url):\n",
    "    r = requests.get(url)\n",
    "    return Response(r.status_code, json.loads(r.text))\n",
    "\n",
    "# Perform POST request\n",
    "def post_data(url, d, f):\n",
    "    r = requests.post(url, data = d, files = f)\n",
    "    return Response(r.status_code, json.loads(r.text))"
   ]
  },
  {
   "cell_type": "markdown",
   "metadata": {},
   "source": [
    "<a id=\"list_pckg_ex\"></a>\n",
    "#### List of packages\n",
    "\n",
    "For more information about this endpoint, please visit the [BioBB REST API Documentation section](http://mmb.irbbarcelona.org/biobb-api/rest#/List%20of%20Services/getPckgList).\n",
    "\n",
    "##### Endpoint"
   ]
  },
  {
   "cell_type": "markdown",
   "metadata": {},
   "source": [
    "**GET** `http://mmb.irbbarcelona.org/biobb-api/rest/v1/launch`"
   ]
  },
  {
   "cell_type": "markdown",
   "metadata": {},
   "source": [
    "##### Code"
   ]
  },
  {
   "cell_type": "code",
   "execution_count": null,
   "metadata": {},
   "outputs": [],
   "source": [
    "url = apiURL + 'launch'\n",
    "response = get_data(url)\n",
    "\n",
    "print(json.dumps(response.json, indent=2))"
   ]
  },
  {
   "cell_type": "markdown",
   "metadata": {},
   "source": [
    "<a id=\"list_tools_ex\"></a>\n",
    "#### List of tools from a specific package\n",
    "\n",
    "For more information about this endpoint, please visit the [BioBB REST API Documentation section](http://mmb.irbbarcelona.org/biobb-api/rest#/List%20of%20Services/getToolsList).\n",
    "\n",
    "##### Endpoint"
   ]
  },
  {
   "cell_type": "markdown",
   "metadata": {},
   "source": [
    "**GET** `http://mmb.irbbarcelona.org/biobb-api/rest/v1/launch/{package}`"
   ]
  },
  {
   "cell_type": "markdown",
   "metadata": {},
   "source": [
    "##### Code"
   ]
  },
  {
   "cell_type": "code",
   "execution_count": null,
   "metadata": {},
   "outputs": [],
   "source": [
    "package = 'biobb_analysis'\n",
    "url = apiURL + 'launch/' + package\n",
    "response = get_data(url)\n",
    "\n",
    "print(json.dumps(response.json, indent=2))"
   ]
  },
  {
   "cell_type": "markdown",
   "metadata": {},
   "source": [
    "<a id=\"tools_prop_ex\"></a>\n",
    "#### Tool's properties\n",
    "\n",
    "For more information about this endpoint, please visit the [BioBB REST API Documentation section](http://mmb.irbbarcelona.org/biobb-api/rest#/Launch%20Tool/getLaunchTool).\n",
    "\n",
    "##### Endpoint"
   ]
  },
  {
   "cell_type": "markdown",
   "metadata": {},
   "source": [
    "**GET** `http://mmb.irbbarcelona.org/biobb-api/rest/v1/launch/{package}/{tool}`"
   ]
  },
  {
   "cell_type": "markdown",
   "metadata": {},
   "source": [
    "##### Code"
   ]
  },
  {
   "cell_type": "code",
   "execution_count": null,
   "metadata": {},
   "outputs": [],
   "source": [
    "package = 'biobb_analysis'\n",
    "tool = 'cpptraj_average'\n",
    "url = apiURL + 'launch/' + package + '/' + tool\n",
    "response = get_data(url)\n",
    "\n",
    "print(json.dumps(response.json, indent=2))"
   ]
  },
  {
   "cell_type": "markdown",
   "metadata": {},
   "source": [
    "<a id=\"launch_tool_ex\"></a>\n",
    "### Launch tool\n",
    "\n",
    "For more information about this endpoint, please visit the [BioBB REST API Documentation section](http://mmb.irbbarcelona.org/biobb-api/rest#/Launch%20Tool/postLaunchTool). The documentation for all the tools is available in the [BioBB REST API Tools Documentation section](http://mmb.irbbarcelona.org/biobb-api/tools-documentation?docExpansion=none). Interactive examples for all the tools are available in the [BioBB REST API Tools Execution section](http://mmb.irbbarcelona.org/biobb-api/tools-execution).\n",
    "\n",
    "Definition of functions needed for launch a job:"
   ]
  },
  {
   "cell_type": "code",
   "execution_count": null,
   "metadata": {},
   "outputs": [],
   "source": [
    "from io import BytesIO\n",
    "from pathlib import Path\n",
    "\n",
    "# Function used for encode python dictionary to JSON file\n",
    "def encode_config(data):\n",
    "    jsonData = json.dumps(data)\n",
    "    binaryData = jsonData.encode()\n",
    "    return BytesIO(binaryData)\n",
    "\n",
    "# Launch job\n",
    "def launch_job(url, **kwargs):\n",
    "    data = {}\n",
    "    files = {}\n",
    "    # Fill data (output paths) and files (input files) objects\n",
    "    for key, value in kwargs.items():\n",
    "        # Inputs / Outputs\n",
    "        if type(value) is str:\n",
    "            if key.startswith('input'):\n",
    "                files[key] = (value,  open(value, 'rb'))\n",
    "            elif key.startswith('output'):\n",
    "                data[key] = value\n",
    "            elif Path(value).is_file():\n",
    "                files[key] = (value,  open(value, 'rb'))\n",
    "        # Properties (in case properties are provided as a dictionary instead of a file)\n",
    "        if type(value) is dict:\n",
    "            files['config'] = ('prop.json', encode_config(value))\n",
    "    # Request URL with data and files\n",
    "    response = post_data(url, data, files)\n",
    "    # Print REST API response\n",
    "    print(json.dumps(response.json, indent=2))\n",
    "    # Save token if status == 303\n",
    "    if response.status == 303:\n",
    "        token = response.json['token']\n",
    "        return token"
   ]
  },
  {
   "cell_type": "markdown",
   "metadata": {},
   "source": [
    "Hereafter we will launch a job on *biobb_analysis.cpptraj_average* tool with the provided *files/* in the files folder of this same repository. The response is a JSON with the status code, the state of the job, a message and a token for checking the job status.\n",
    "\n",
    "<a id=\"tool_yml_ex\"></a>\n",
    "#### Launch job with a YAML file config\n",
    "\n",
    "##### File config"
   ]
  },
  {
   "cell_type": "markdown",
   "metadata": {},
   "source": [
    "```yaml \n",
    "properties:\n",
    "    in_parameters:\n",
    "      start: 1\n",
    "      end: -1\n",
    "      step: 1\n",
    "      mask: c-alpha\n",
    "    out_parameters:\n",
    "      format: pdb\n",
    "```"
   ]
  },
  {
   "cell_type": "markdown",
   "metadata": {},
   "source": [
    "##### Endpoint"
   ]
  },
  {
   "cell_type": "markdown",
   "metadata": {},
   "source": [
    "**POST** `http://mmb.irbbarcelona.org/biobb-api/rest/v1/launch/{package}/{tool}`"
   ]
  },
  {
   "cell_type": "markdown",
   "metadata": {},
   "source": [
    "##### Code"
   ]
  },
  {
   "cell_type": "markdown",
   "metadata": {},
   "source": [
    "The function below sends POST data and files to the *{package}/{tool}* endpoint. The config properties are sent as a YAML file.\n",
    "\n",
    "The response is a JSON with the status code, the state of the job, a message and a token that will be used for checking the job status in the next step. "
   ]
  },
  {
   "cell_type": "code",
   "execution_count": null,
   "metadata": {},
   "outputs": [],
   "source": [
    "# Launch BioBB on REST API with YAML config file\n",
    "\n",
    "token = launch_job(url = apiURL + 'launch/biobb_analysis/cpptraj_average', \n",
    "                   config = 'files/config.yml',\n",
    "                   input_top_path = 'files/cpptraj.parm.top',\n",
    "                   input_traj_path = 'files/cpptraj.traj.dcd',\n",
    "                   output_cpptraj_path = 'output.cpptraj.average.pdb')"
   ]
  },
  {
   "cell_type": "markdown",
   "metadata": {},
   "source": [
    "<a id=\"tool_json_ex\"></a>\n",
    "#### Launch job with a JSON file config\n",
    "\n",
    "File config:"
   ]
  },
  {
   "cell_type": "markdown",
   "metadata": {},
   "source": [
    "```json\n",
    "{\n",
    "\t\"in_parameters\": {\n",
    "\t\t\"start\": 1,\n",
    "\t\t\"end\": -1,\n",
    "\t\t\"step\": 1,\n",
    "\t\t\"mask\": \"c-alpha\"\n",
    "\t},\n",
    "\t\"out_parameters\": {\n",
    "\t\t\"format\": \"pdb\"\n",
    "\t}\n",
    "}\n",
    "```"
   ]
  },
  {
   "cell_type": "markdown",
   "metadata": {},
   "source": [
    "##### Endpoint"
   ]
  },
  {
   "cell_type": "markdown",
   "metadata": {},
   "source": [
    "**POST** `http://mmb.irbbarcelona.org/biobb-api/rest/v1/launch/{package}/{tool}`"
   ]
  },
  {
   "cell_type": "markdown",
   "metadata": {},
   "source": [
    "##### Code"
   ]
  },
  {
   "cell_type": "markdown",
   "metadata": {},
   "source": [
    "The function below sends POST data and files to the *{package}/{tool}* endpoint. The config properties are sent as a JSON file.\n",
    "\n",
    "The response is a JSON with the status code, the state of the job, a message and a token that will be used for checking the job status in the next step. "
   ]
  },
  {
   "cell_type": "code",
   "execution_count": null,
   "metadata": {},
   "outputs": [],
   "source": [
    "# Launch BioBB on REST API with JSON config file\n",
    "\n",
    "token = launch_job(url = apiURL + 'launch/biobb_analysis/cpptraj_average', \n",
    "                   config = 'files/config.json',\n",
    "                   input_top_path = 'files/cpptraj.parm.top',\n",
    "                   input_traj_path = 'files/cpptraj.traj.dcd',\n",
    "                   output_cpptraj_path = 'output.cpptraj.average.pdb')"
   ]
  },
  {
   "cell_type": "markdown",
   "metadata": {},
   "source": [
    "<a id=\"tool_dict_ex\"></a>\n",
    "#### Launch job with a python dictionary config"
   ]
  },
  {
   "cell_type": "markdown",
   "metadata": {},
   "source": [
    "##### Endpoint"
   ]
  },
  {
   "cell_type": "markdown",
   "metadata": {},
   "source": [
    "**POST** `http://mmb.irbbarcelona.org/biobb-api/rest/v1/launch/{package}/{tool}`"
   ]
  },
  {
   "cell_type": "markdown",
   "metadata": {},
   "source": [
    "##### Code"
   ]
  },
  {
   "cell_type": "markdown",
   "metadata": {},
   "source": [
    "The function below sends POST data and files to the *{package}/{tool}* endpoint. The config properties are sent as a python dictionary embedded in the code.\n",
    "\n",
    "The response is a JSON with the status code, the state of the job, a message and a token that will be used for checking the job status in the next step. "
   ]
  },
  {
   "cell_type": "code",
   "execution_count": null,
   "metadata": {},
   "outputs": [],
   "source": [
    "# Launch BioBB on REST API with JSON config file\n",
    "\n",
    "prop = {\n",
    "    \"in_parameters\" : {\n",
    "      \"start\": 1,\n",
    "      \"end\": -1,\n",
    "      \"step\": 1,\n",
    "      \"mask\": \"c-alpha\"\n",
    "    },\n",
    "    \"out_parameters\" : {\n",
    "      \"format\": \"pdb\"\n",
    "    }\n",
    "}\n",
    "\n",
    "token = launch_job(url = apiURL + 'launch/biobb_analysis/cpptraj_average', \n",
    "                   config = prop,\n",
    "                   input_top_path = 'files/cpptraj.parm.top',\n",
    "                   input_traj_path = 'files/cpptraj.traj.dcd',\n",
    "                   output_cpptraj_path = 'output.cpptraj.average.pdb')"
   ]
  },
  {
   "cell_type": "markdown",
   "metadata": {},
   "source": [
    "<a id=\"retrieve_status_ex\"></a>\n",
    "### Retrieve status\n",
    "\n",
    "For more information about this endpoint, please visit the [BioBB REST API Documentation section](http://mmb.irbbarcelona.org/biobb-api/rest#/Retrieve/getRetrieveStatus).\n",
    "\n",
    "Definition of functions needed for retrieve the status of a job:"
   ]
  },
  {
   "cell_type": "code",
   "execution_count": null,
   "metadata": {},
   "outputs": [],
   "source": [
    "import datetime\n",
    "from time import sleep\n",
    "\n",
    "# Checks status until a provided \"ok\" status is returned by the response\n",
    "def check_status(url, ok, error):\n",
    "    counter = 0\n",
    "    while True:\n",
    "        if counter < 10: slp = 1\n",
    "        if counter >= 10 and counter < 60: slp = 10\n",
    "        if counter >= 60: slp = 60\n",
    "        counter = counter + slp\n",
    "        sleep(slp)\n",
    "        r = requests.get(url)\n",
    "        if r.status_code == ok or r.status_code == error:\n",
    "            return counter\n",
    "            break\n",
    "\n",
    "# Function that checks the status and parses the reponse JSON for saving th output files in a list\n",
    "def check_job(token):\n",
    "    # define retrieve status URL\n",
    "    url = apiURL + 'retrieve/status/' + token\n",
    "    # check status until job has finished\n",
    "    counter = check_status(url, 200, 500)\n",
    "    # Get content when status = 200\n",
    "    response = get_data(url)\n",
    "    # Save id for the generated output_files\n",
    "    if response.status == 200:\n",
    "        out_files = []\n",
    "        for outf in response.json['output_files']:\n",
    "            item = { 'id': outf['id'], 'name': outf['name'] }\n",
    "            out_files.append(item)\n",
    "\n",
    "    # Print REST API response\n",
    "    print(\"Total elapsed time: %s\" % str(datetime.timedelta(seconds=counter)))\n",
    "    print(\"REST API JSON response:\")\n",
    "    print(json.dumps(response.json, indent=4))\n",
    "    \n",
    "    if response.status == 200: \n",
    "        return out_files\n",
    "    else: return None"
   ]
  },
  {
   "cell_type": "markdown",
   "metadata": {},
   "source": [
    "##### Endpoint"
   ]
  },
  {
   "cell_type": "markdown",
   "metadata": {},
   "source": [
    "**GET** `http://mmb.irbbarcelona.org/biobb-api/rest/v1/retrieve/status/{token}`"
   ]
  },
  {
   "cell_type": "markdown",
   "metadata": {},
   "source": [
    "##### Code"
   ]
  },
  {
   "cell_type": "markdown",
   "metadata": {},
   "source": [
    "The function below checks the status of a job and awaits until the response status is `200`. The response is a JSON with the status code, the state of the job, a message, a list with all the generated output files and the date of the expiration of these files. Additionally, the function also provides the elapsed time since the job has been launched until it has finished. "
   ]
  },
  {
   "cell_type": "code",
   "execution_count": null,
   "metadata": {},
   "outputs": [],
   "source": [
    "# Check job status\n",
    "out_files = check_job(token)"
   ]
  },
  {
   "cell_type": "markdown",
   "metadata": {},
   "source": [
    "<a id=\"retrieve_data_ex\"></a>\n",
    "### Retrieve data\n",
    "\n",
    "For more information about this endpoint, please visit the [BioBB REST API Documentation section](http://mmb.irbbarcelona.org/biobb-api/rest#/Retrieve/getRetrieveData).\n",
    "\n",
    "Definition of functions needed for retrieve the output file(s) generated by a job:"
   ]
  },
  {
   "cell_type": "code",
   "execution_count": null,
   "metadata": {},
   "outputs": [],
   "source": [
    "# Downloads to disk a file from a given URL\n",
    "def get_file(url, filename):\n",
    "    r = requests.get(url, allow_redirects=True)\n",
    "    file = open(filename,'wb') \n",
    "    file.write(r.content) \n",
    "    file.close()\n",
    "\n",
    "# Retrieves all the files provided in the out_files list\n",
    "def retrieve_data(out_files):\n",
    "    if not out_files:\n",
    "        return \"No files provided\"\n",
    "    for outf in out_files:\n",
    "        get_file(apiURL + 'retrieve/data/' + outf['id'], outf['name'])"
   ]
  },
  {
   "cell_type": "markdown",
   "metadata": {},
   "source": [
    "##### Endpoint"
   ]
  },
  {
   "cell_type": "markdown",
   "metadata": {},
   "source": [
    "**GET** `http://mmb.irbbarcelona.org/biobb-api/rest/v1/retrieve/data/{id}`"
   ]
  },
  {
   "cell_type": "markdown",
   "metadata": {},
   "source": [
    "##### Code"
   ]
  },
  {
   "cell_type": "markdown",
   "metadata": {},
   "source": [
    "The function below makes a single call to the *retrieve/data* endpoint for each output file got in the *retrieve/status* endpoint and save the generated file(s) to disk."
   ]
  },
  {
   "cell_type": "code",
   "execution_count": null,
   "metadata": {},
   "outputs": [],
   "source": [
    "# Save generated file(s) to disk\n",
    "\n",
    "retrieve_data(out_files)"
   ]
  },
  {
   "cell_type": "markdown",
   "metadata": {},
   "source": [
    "<a id=\"practical_cases\"></a>\n",
    "## Practical cases"
   ]
  },
  {
   "cell_type": "markdown",
   "metadata": {},
   "source": [
    "Now we will execute some Bioexcel Building Blocks through the BioBB REST API and with the results we will do some interactions with other python libraries such as [plotly](https://plot.ly/python/offline/) or [nglview](http://nglviewer.org/#nglview)."
   ]
  },
  {
   "cell_type": "markdown",
   "metadata": {},
   "source": [
    "<a id=\"example1\"></a>\n",
    "### Example 1: download PDB file from RSCB database"
   ]
  },
  {
   "cell_type": "markdown",
   "metadata": {},
   "source": [
    "Launch the *biobb_io.pdb* job that downloads a PDB file from the RSCB database:"
   ]
  },
  {
   "cell_type": "code",
   "execution_count": null,
   "metadata": {},
   "outputs": [],
   "source": [
    "# Downloading desired PDB file\n",
    "\n",
    "# Create properties dict and inputs/outputs\n",
    "downloaded_pdb = '3EBP.pdb'\n",
    "prop = {\n",
    "    'pdb_code': '3EBP',\n",
    "    'filter': False\n",
    "}\n",
    "\n",
    "# Launch bb on REST API\n",
    "token = launch_job(url = apiURL + 'launch/biobb_io/pdb', \n",
    "                   config = prop,\n",
    "                   output_pdb_path = downloaded_pdb)\n"
   ]
  },
  {
   "cell_type": "code",
   "execution_count": null,
   "metadata": {},
   "outputs": [],
   "source": [
    "# Check job status\n",
    "out_files = check_job(token)"
   ]
  },
  {
   "cell_type": "code",
   "execution_count": null,
   "metadata": {},
   "outputs": [],
   "source": [
    "# Save generated file to disk\n",
    "retrieve_data(out_files)"
   ]
  },
  {
   "cell_type": "markdown",
   "metadata": {},
   "source": [
    "Visualize downloaded PDB in NGLView:"
   ]
  },
  {
   "cell_type": "code",
   "execution_count": null,
   "metadata": {},
   "outputs": [],
   "source": [
    "import nglview\n",
    "\n",
    "# Show protein\n",
    "view = nglview.show_file(downloaded_pdb)\n",
    "view.add_representation(repr_type='ball+stick', selection='het')\n",
    "view._remote_call('setSize', target='Widget', args=['','600px'])\n",
    "view"
   ]
  },
  {
   "cell_type": "markdown",
   "metadata": {},
   "source": [
    "<a id=\"example2\"></a>\n",
    "### Example 2: extract heteroatom from a given structure"
   ]
  },
  {
   "cell_type": "markdown",
   "metadata": {},
   "source": [
    "Launch the *biobb_structure_utils.extract_heteroatoms* job that extracts a heteroatom from a PDB file."
   ]
  },
  {
   "cell_type": "code",
   "execution_count": null,
   "metadata": {},
   "outputs": [],
   "source": [
    "# Extracting heteroatom from a given structure\n",
    "\n",
    "# Create properties dict and inputs/outputs\n",
    "heteroatom = 'CPB.pdb'\n",
    "prop = {\n",
    "    'heteroatoms': [{\n",
    "        'name': 'CPB'\n",
    "    }]\n",
    "}\n",
    "\n",
    "# Launch bb on REST API\n",
    "token = launch_job(url = apiURL + 'launch/biobb_structure_utils/extract_heteroatoms', \n",
    "                   config = prop,\n",
    "                   input_structure_path = downloaded_pdb,\n",
    "                   output_heteroatom_path = heteroatom)\n"
   ]
  },
  {
   "cell_type": "code",
   "execution_count": null,
   "metadata": {},
   "outputs": [],
   "source": [
    "# Check job status\n",
    "out_files = check_job(token)"
   ]
  },
  {
   "cell_type": "code",
   "execution_count": null,
   "metadata": {},
   "outputs": [],
   "source": [
    "# Save generated file to disk\n",
    "retrieve_data(out_files)"
   ]
  },
  {
   "cell_type": "markdown",
   "metadata": {},
   "source": [
    "Visualize generated extracted heteroatom in NGLView:"
   ]
  },
  {
   "cell_type": "code",
   "execution_count": null,
   "metadata": {},
   "outputs": [],
   "source": [
    "# Show protein\n",
    "view = nglview.show_file(heteroatom)\n",
    "view.add_representation(repr_type='ball+stick', selection='het')\n",
    "view._remote_call('setSize', target='Widget', args=['','600px'])\n",
    "view"
   ]
  },
  {
   "cell_type": "markdown",
   "metadata": {},
   "source": [
    "<a id=\"example3\"></a>\n",
    "### Example 3: extract energy components from a given GROMACS energy file"
   ]
  },
  {
   "cell_type": "code",
   "execution_count": null,
   "metadata": {},
   "outputs": [],
   "source": [
    "# GMXEnergy: Getting system energy by time \n",
    "\n",
    "# Create prop dict and inputs/outputs\n",
    "output_min_ene_xvg ='file_min_ene.xvg'\n",
    "output_min_edr = 'files/1AKI_min.edr'\n",
    "prop = {\n",
    "    'terms':  [\"Potential\"]\n",
    "}\n",
    "\n",
    "# Launch bb on REST API\n",
    "token = launch_job(url = apiURL + 'launch/biobb_analysis/gmx_energy',\n",
    "                   config = prop,\n",
    "                   input_energy_path = output_min_edr,\n",
    "                   output_xvg_path = output_min_ene_xvg)"
   ]
  },
  {
   "cell_type": "code",
   "execution_count": null,
   "metadata": {},
   "outputs": [],
   "source": [
    "# Check job status\n",
    "out_files = check_job(token)"
   ]
  },
  {
   "cell_type": "code",
   "execution_count": null,
   "metadata": {},
   "outputs": [],
   "source": [
    "# Save generated file to disk\n",
    "retrieve_data(out_files)"
   ]
  },
  {
   "cell_type": "markdown",
   "metadata": {},
   "source": [
    "Visualize generated energy file in plotly:"
   ]
  },
  {
   "cell_type": "code",
   "execution_count": null,
   "metadata": {},
   "outputs": [],
   "source": [
    "import plotly\n",
    "import plotly.graph_objs as go\n",
    "\n",
    "#Read data from file and filter energy values higher than 1000 Kj/mol^-1\n",
    "with open(output_min_ene_xvg,'r') as energy_file:\n",
    "    x,y = map(\n",
    "        list,\n",
    "        zip(*[\n",
    "            (float(line.split()[0]),float(line.split()[1]))\n",
    "            for line in energy_file \n",
    "            if not line.startswith((\"#\",\"@\")) \n",
    "            if float(line.split()[1]) < 1000 \n",
    "        ])\n",
    "    )\n",
    "\n",
    "plotly.offline.init_notebook_mode(connected=True)\n",
    "\n",
    "fig = {\n",
    "    \"data\": [go.Scatter(x=x, y=y)],\n",
    "    \"layout\": go.Layout(title=\"Energy Minimization\",\n",
    "                        xaxis=dict(title = \"Energy Minimization Step\"),\n",
    "                        yaxis=dict(title = \"Potential Energy KJ/mol-1\")\n",
    "                       )\n",
    "}\n",
    "\n",
    "plotly.offline.iplot(fig)"
   ]
  }
 ],
 "metadata": {
  "kernelspec": {
   "display_name": "Python 3",
   "language": "python",
   "name": "python3"
  },
  "language_info": {
   "codemirror_mode": {
    "name": "ipython",
    "version": 3
   },
   "file_extension": ".py",
   "mimetype": "text/x-python",
   "name": "python",
   "nbconvert_exporter": "python",
   "pygments_lexer": "ipython3",
   "version": "3.6.7"
  }
 },
 "nbformat": 4,
 "nbformat_minor": 2
}
